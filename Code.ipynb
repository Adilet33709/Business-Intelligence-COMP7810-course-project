{
 "cells": [
  {
   "cell_type": "markdown",
   "id": "b19bb71b-5095-454a-8968-fded49fa10f9",
   "metadata": {},
   "source": [
    "# COMP 7810 PROJECT \n",
    "## (Adilet Uvaliyev (24451703))"
   ]
  },
  {
   "cell_type": "markdown",
   "id": "10c9336e-7390-49cf-8468-166bfd1bb560",
   "metadata": {},
   "source": [
    "This project is about churn prediction in telecom industry"
   ]
  },
  {
   "cell_type": "code",
   "execution_count": null,
   "id": "b3eaba8d-6bc5-472e-bd20-df029b6ce2bb",
   "metadata": {},
   "outputs": [],
   "source": [
    "### Import libraries\n",
    "import pandas as pd\n",
    "import seaborn as sns\n",
    "import numpy as np\n",
    "import matplotlib.pyplot as plt\n",
    "from imblearn.over_sampling import SMOTE\n",
    "from sklearn.preprocessing import StandardScaler\n",
    "from sklearn.model_selection import train_test_split\n",
    "from sklearn.svm import SVC\n",
    "from sklearn.ensemble import RandomForestClassifier\n",
    "from sklearn.tree import DecisionTreeClassifier\n",
    "from sklearn.metrics import accuracy_score\n",
    "from sklearn.metrics import precision_score\n",
    "from sklearn.metrics import recall_score\n",
    "from sklearn.metrics import f1_score\n",
    "from sklearn.metrics import roc_auc_score\n",
    "from sklearn.metrics import confusion_matrix\n",
    "from sklearn.metrics import ConfusionMatrixDisplay"
   ]
  },
  {
   "cell_type": "markdown",
   "id": "b2104db2-8cff-4829-85d2-0b2c4ed5a2ee",
   "metadata": {},
   "source": [
    "# 1. Initial Explarotary data analysis"
   ]
  },
  {
   "cell_type": "code",
   "execution_count": null,
   "id": "0e6cca84-fd09-4665-933a-76474781ba36",
   "metadata": {},
   "outputs": [],
   "source": [
    "## read a file\n",
    "df = pd.read_csv('WA_Fn-UseC_-Telco-Customer-Churn.csv')\n",
    "## Take a look at first 5 rows\n",
    "print(df.head())\n",
    "## Print the shape and info\n",
    "print(df.shape)\n",
    "print(df.info())\n",
    "## Get info about numerical features\n",
    "print(df.describe())\n",
    "## Get info about non numerical features\n",
    "print(df.describe(include=[\"object\"]))"
   ]
  },
  {
   "cell_type": "code",
   "execution_count": null,
   "id": "1862a3f8-a4c0-4064-8e89-b47ce4accf7e",
   "metadata": {},
   "outputs": [],
   "source": [
    "## Plot the table about the statistics of each feature"
   ]
  },
  {
   "cell_type": "markdown",
   "id": "296774e8-5a47-4c0b-8e7e-07fdcf0bb1d1",
   "metadata": {},
   "source": [
    "# 2. Pre-processing"
   ]
  },
  {
   "cell_type": "code",
   "execution_count": null,
   "id": "985fb956-b7af-4244-9d69-1c8c53ec01ad",
   "metadata": {},
   "outputs": [],
   "source": [
    "#### Exploratory data analysis\n",
    "### Drop ID column\n",
    "df = df.drop(['customerID'], axis = 'columns')\n",
    "## Drop duplicates\n",
    "df.drop_duplicates(inplace=True)\n",
    "\n",
    "\n",
    "## Change data types\n",
    "df['TotalCharges'] = pd.to_numeric(df.TotalCharges, errors='coerce')\n",
    "df['MonthlyCharges'] = pd.to_numeric(df.MonthlyCharges, errors='coerce')\n",
    "df[\"SeniorCitizen\"]= df[\"SeniorCitizen\"].map({0: \"No\", 1: \"Yes\"})\n",
    "df[\"Churn\"]= df[\"Churn\"].map({\"No\" : 0, \"Yes\": 1})\n",
    "\n",
    "\n",
    "\n",
    "## Drop rows with missing values\n",
    "df = df.dropna() \n",
    "\n",
    "\n",
    "## Get info about churn\n",
    "df[\"Churn\"].value_counts()\n",
    "\n"
   ]
  },
  {
   "cell_type": "code",
   "execution_count": null,
   "id": "3f2de0ff-9f75-49e8-9111-69fca09a7841",
   "metadata": {},
   "outputs": [],
   "source": [
    "# # ### Create boxplots for outlier detection\n",
    "num_cols = ['tenure', 'MonthlyCharges', 'TotalCharges']\n",
    "\n",
    "# Create box plots for each numerical feature\n",
    "for i in range(3):\n",
    "    plt.subplot(1, 3, i+1)\n",
    "    sns.boxplot(y=df[num_cols[i]])\n",
    "    plt.title(num_cols[i])\n",
    "\n",
    "plt.tight_layout()\n",
    "plt.savefig('box_plot.png')\n",
    "plt.show()"
   ]
  },
  {
   "cell_type": "markdown",
   "id": "a1eb45d1-5249-4a8e-bc3a-a783e5670815",
   "metadata": {},
   "source": [
    "# 3. Explarotary Analysis after Pre-processing"
   ]
  },
  {
   "cell_type": "code",
   "execution_count": null,
   "id": "b3d0406a-25c0-43d9-b0a2-58cbd8f85959",
   "metadata": {},
   "outputs": [],
   "source": [
    "## Take a look at first 5 rows\n",
    "print(df.head())\n",
    "## Print the shape and info\n",
    "print(df.shape)\n",
    "print(df.info())\n",
    "## Get info about numerical features\n",
    "print(df.describe())\n",
    "## Get info about non numerical features\n",
    "print(df.describe(include=[\"object\"]))\n",
    "\n",
    "\n",
    "## Find info about the qualitative variables\n",
    "qual_cols = df.select_dtypes(include=['object']).columns\n",
    "for col in qual_cols:\n",
    "    print(df[col].value_counts())"
   ]
  },
  {
   "cell_type": "markdown",
   "id": "65ba1c9b-eab2-4a12-8783-b0a3a3a33f0c",
   "metadata": {},
   "source": [
    "# 4. Modelling"
   ]
  },
  {
   "cell_type": "markdown",
   "id": "04f86c35-814f-4a27-b4fe-fed90f38417e",
   "metadata": {},
   "source": [
    "### 4.a One-Hot Encoding of Categorical Features"
   ]
  },
  {
   "cell_type": "code",
   "execution_count": null,
   "id": "57a2e863-fe6a-40bd-92bb-336efb84253a",
   "metadata": {},
   "outputs": [],
   "source": [
    "categoric_cols = [col for col in df.columns if df[col].dtype == 'object' and col != 'Churn']\n",
    "\n",
    "# Encoding multiple columns\n",
    "df_enc = pd.get_dummies(df, columns=categoric_cols)\n",
    "\n",
    "## Get features and output variable\n",
    "X = df_enc.drop('Churn', axis=1)\n",
    "feature_names = df_enc.drop('Churn', axis=1).columns\n",
    "Y = df_enc['Churn']"
   ]
  },
  {
   "cell_type": "markdown",
   "id": "28cc503e-e42a-41de-8aba-b5eab9f52a7a",
   "metadata": {},
   "source": [
    "### 4.b Normalization"
   ]
  },
  {
   "cell_type": "code",
   "execution_count": null,
   "id": "fbc1c02b-6656-486f-95d5-e0d3d2fe1062",
   "metadata": {},
   "outputs": [],
   "source": [
    "## Normalization\n",
    "scaler= StandardScaler()\n",
    "X = scaler.fit_transform(X)"
   ]
  },
  {
   "cell_type": "markdown",
   "id": "e49a5ad1-db42-4a05-8062-0fb3c9bae949",
   "metadata": {},
   "source": [
    "### 4.c Train test split and Data imbalance problem"
   ]
  },
  {
   "cell_type": "code",
   "execution_count": null,
   "id": "13ebb820-97f3-4d8b-99ca-f8b18f6c0e6a",
   "metadata": {},
   "outputs": [],
   "source": [
    "X_train, X_test, Y_train, Y_test = train_test_split(X, Y, test_size=0.2, shuffle=True, random_state = 0)\n",
    "\n",
    "### Use SMOTE to upsample the minority class \n",
    "smote=SMOTE(sampling_strategy='minority') \n",
    "X_train,Y_train =smote.fit_resample(X_train,Y_train)\n",
    "\n",
    "results = []"
   ]
  },
  {
   "cell_type": "code",
   "execution_count": null,
   "id": "3323c52e-82a2-4b08-a1e6-b8be6fd3a0db",
   "metadata": {},
   "outputs": [],
   "source": [
    "print(y_train.head())"
   ]
  },
  {
   "cell_type": "code",
   "execution_count": null,
   "id": "aec4b2fe-38b9-4c40-829d-c0cfeb3f63c6",
   "metadata": {},
   "outputs": [],
   "source": [
    "print(df_enc.info())\n",
    "print(df_enc.head())"
   ]
  },
  {
   "cell_type": "markdown",
   "id": "91303dd1-606f-448f-8eda-71a0383be845",
   "metadata": {},
   "source": [
    "### 4.d SVM Model"
   ]
  },
  {
   "cell_type": "code",
   "execution_count": null,
   "id": "284a7137-fd4a-436a-ad69-a21c754abeb3",
   "metadata": {},
   "outputs": [],
   "source": [
    "## Define the SVC model\n",
    "svc_model = SVC(random_state = 2)\n",
    "svc_model.fit(X_train,Y_train)\n",
    "Y_preds = svc_model.predict(X_test)\n",
    "\n",
    "\n",
    "## Calculate and Print metrics\n",
    "print(\"Accuracy:\", accuracy_score(Y_test, Y_preds))\n",
    "print(\"Precision:\", precision_score(Y_test, Y_preds, pos_label=1))\n",
    "print(\"Recall:\", recall_score(Y_test, Y_preds, pos_label=1))\n",
    "print(\"F1 Score:\", f1_score(Y_test, Y_preds, pos_label=1))\n",
    "print(\"AUC:\", roc_auc_score(Y_test, Y_preds))\n",
    "\n",
    "\n",
    "## Save results for later plot\n",
    "result = {}\n",
    "result['Accuracy'] = round(float(100 * accuracy_score(Y_test, Y_preds)),2)\n",
    "result['Precision'] = round(float(100 * precision_score(Y_test, Y_preds, pos_label=1)),2)\n",
    "result['Recall'] = round(float(100 * recall_score(Y_test, Y_preds, pos_label=1)),2)\n",
    "result['F1'] = round(float(100 * f1_score(Y_test, Y_preds, pos_label=1)),2)\n",
    "result['AUC'] = round(float(100 * roc_auc_score(Y_test, Y_preds)),2)\n",
    "result['Model'] = 'SVM'\n",
    "results.append(result)\n",
    "\n",
    "\n",
    "## Display and save confusion Matrix\n",
    "disp = ConfusionMatrixDisplay(confusion_matrix(Y_test, Y_preds))\n",
    "disp.plot().figure_.savefig('confusion_matrix_SVM.png')"
   ]
  },
  {
   "cell_type": "markdown",
   "id": "96a2739d-aa8a-4cf2-adec-a7d9f797a122",
   "metadata": {},
   "source": [
    "### 4.e RF Model"
   ]
  },
  {
   "cell_type": "code",
   "execution_count": null,
   "id": "ebdac3d0-d7a3-40c5-9010-475bbfbb2187",
   "metadata": {},
   "outputs": [],
   "source": [
    "print(results)"
   ]
  },
  {
   "cell_type": "code",
   "execution_count": null,
   "id": "2d84f506-dd21-440e-8a89-6c353022ba1e",
   "metadata": {},
   "outputs": [],
   "source": [
    "## Define and train RF model\n",
    "RF = RandomForestClassifier(n_estimators=500 , random_state =1)\n",
    "RF.fit(X_train, Y_train)\n",
    "Y_preds = RF.predict(X_test)\n",
    "\n",
    "## Calculate and Print metrics\n",
    "print(\"Accuracy:\", accuracy_score(Y_test, Y_preds))\n",
    "print(\"Precision:\", precision_score(Y_test, Y_preds, pos_label=1))\n",
    "print(\"Recall:\", recall_score(Y_test, Y_preds, pos_label=1))\n",
    "print(\"F1 Score:\", f1_score(Y_test, Y_preds, pos_label=1))\n",
    "print(\"AUC:\", roc_auc_score(Y_test, Y_preds))\n",
    "\n",
    "\n",
    "## Display and save confusion Matrix\n",
    "disp = ConfusionMatrixDisplay(confusion_matrix(Y_test, Y_preds))\n",
    "disp.plot().figure_.savefig('confusion_matrix_RF.png')\n",
    "\n",
    "## Save results for later plot\n",
    "result = {}\n",
    "result['Accuracy'] = round(float(100 * accuracy_score(Y_test, Y_preds)),2)\n",
    "result['Precision'] = round(float(100 * precision_score(Y_test, Y_preds, pos_label=1)),2)\n",
    "result['Recall'] = round(float(100 * recall_score(Y_test, Y_preds, pos_label=1)),2)\n",
    "result['F1'] = round(float(100 * f1_score(Y_test, Y_preds, pos_label=1)),2)\n",
    "result['AUC'] = round(float(100 * roc_auc_score(Y_test, Y_preds)),2)\n",
    "result['Model'] = 'RF'\n",
    "results.append(result)"
   ]
  },
  {
   "cell_type": "markdown",
   "id": "f72c9fc5-647a-471d-8a98-def810b4c7a4",
   "metadata": {},
   "source": [
    "## 4.F Decision Tree algorthm"
   ]
  },
  {
   "cell_type": "code",
   "execution_count": null,
   "id": "30456ff5-acd2-4a92-9c93-c61b8faf1cac",
   "metadata": {},
   "outputs": [],
   "source": [
    "## Define and train DT algorithm\n",
    "d_tree = DecisionTreeClassifier()\n",
    "d_tree.fit(X_train, Y_train)\n",
    "Y_preds = d_tree.predict(X_test)\n",
    "\n",
    "\n",
    "## Calculate and Print metrics\n",
    "print(\"Accuracy:\", accuracy_score(Y_test, Y_preds))\n",
    "print(\"Precision:\", precision_score(Y_test, Y_preds, pos_label=1))\n",
    "print(\"Recall:\", recall_score(Y_test, Y_preds, pos_label=1))\n",
    "print(\"F1 Score:\", f1_score(Y_test, Y_preds, pos_label=1))\n",
    "print(\"AUC:\", roc_auc_score(Y_test, Y_preds))\n",
    "\n",
    "\n",
    "## Save results for later plot\n",
    "result = {}\n",
    "result['Accuracy'] = round(float(100 * accuracy_score(Y_test, Y_preds)),2)\n",
    "result['Precision'] = round(float(100 * precision_score(Y_test, Y_preds, pos_label=1)),2)\n",
    "result['Recall'] = round(float(100 * recall_score(Y_test, Y_preds, pos_label=1)),2)\n",
    "result['F1'] = round(float(100 * f1_score(Y_test, Y_preds, pos_label=1)),2)\n",
    "result['AUC'] = round(float(100 * roc_auc_score(Y_test, Y_preds)),2)\n",
    "result['Model'] = 'Decision Tree'\n",
    "results.append(result)\n",
    "\n",
    "## Display and save confusion Matrix\n",
    "disp = ConfusionMatrixDisplay(confusion_matrix(Y_test, Y_preds))\n",
    "disp.plot().figure_.savefig('confusion_matrix_DT.png')"
   ]
  },
  {
   "cell_type": "markdown",
   "id": "d94dd2dc-5170-4764-856b-3081b928b705",
   "metadata": {},
   "source": [
    "## 4.G Plot the comparison curve"
   ]
  },
  {
   "cell_type": "code",
   "execution_count": null,
   "id": "d5c573b9-c9a1-45c7-82fc-d8a26a1a3443",
   "metadata": {},
   "outputs": [],
   "source": [
    "### Plot the comparision figure\n",
    "\n",
    "models = ['SVM', 'Random Forest', 'Decision Tree']\n",
    "accuracy = []  \n",
    "precision = []  \n",
    "recall = []     \n",
    "f1 = []         \n",
    "AUC = []\n",
    "\n",
    "for i in range(len(results)):\n",
    "    accuracy.append(results[i]['Accuracy'])\n",
    "    precision.append(results[i]['Precision'])\n",
    "    recall.append(results[i]['Recall'])\n",
    "    f1.append(results[i]['F1'])\n",
    "    AUC.append(results[i]['AUC'])\n",
    "# Create an array for the metrics\n",
    "metrics = np.array([accuracy, precision, recall, f1, AUC])\n",
    "\n",
    "# Set the bar width and positions\n",
    "bar_width = 0.15\n",
    "x = np.arange(len(models))\n",
    "colors = ['#A1C6EA',  \n",
    "          '#FFD700',  \n",
    "          '#FFA500',  \n",
    "          '#003366',  \n",
    "          '#A9A9A9'] \n",
    "# Create the bar chart\n",
    "plt.figure(figsize=(12, 7))\n",
    "plt.bar(x, metrics[0], width=bar_width, label='Accuracy', color=colors[0], align='center')\n",
    "plt.bar(x + bar_width, metrics[1], width=bar_width, label='Precision', color=colors[1], align='center')\n",
    "plt.bar(x + 2 * bar_width, metrics[2], width=bar_width, label='Recall', color=colors[2], align='center')\n",
    "plt.bar(x + 3 * bar_width, metrics[3], width=bar_width, label='F1 Score', color=colors[3], align='center')\n",
    "plt.bar(x + 4 * bar_width, metrics[4], width=bar_width, label='AUC', color=colors[4], align='center')\n",
    "\n",
    "# Adding labels and title\n",
    "plt.xlabel('Models')\n",
    "plt.ylabel('Scores')\n",
    "plt.title('Performance Comparison of ML Models')\n",
    "plt.xticks(x + 1.5 * bar_width, models)  # Center x-axis labels\n",
    "plt.ylim(0, 100)  # Set the y-axis limits\n",
    "plt.legend(loc='center left', bbox_to_anchor=(1, 0.5))\n",
    "plt.subplots_adjust(right=0.85)\n",
    "# Show the plot\n",
    "#plt.tight_layout()\n",
    "#plt.show()\n",
    "plt.savefig('performance_comparison_ml_models.png')"
   ]
  },
  {
   "cell_type": "markdown",
   "id": "f4d78021-d742-44e1-93a7-146bfb27eb8c",
   "metadata": {},
   "source": [
    "# 5. Feature Importance Analysis"
   ]
  },
  {
   "cell_type": "code",
   "execution_count": null,
   "id": "4198f9f4-fa9a-4529-a60f-0da4b8f3bd90",
   "metadata": {},
   "outputs": [],
   "source": [
    "## Draw feature importance plot\n",
    "importance = RF.feature_importances_\n",
    "\n",
    "for i in range(len(importance)):\n",
    "    importance[i] = round(importance[i], 4)\n",
    "\n",
    "feat_imp = pd.DataFrame({'Feature': feature_names, 'Importance': importance}).sort_values('Importance', ascending=False)\n",
    "\n",
    "\n",
    "\n",
    "pd.DataFrame(feat_imp).to_excel('feature importance.xlsx')"
   ]
  },
  {
   "cell_type": "markdown",
   "id": "c218f7c3-3d85-4fac-ac61-1b056e55313a",
   "metadata": {},
   "source": [
    "# 6. Drawing Business Insights (Top 3 features)"
   ]
  },
  {
   "cell_type": "code",
   "execution_count": null,
   "id": "e15a1705-c0ff-4582-9f7b-b40a2e00e540",
   "metadata": {},
   "outputs": [],
   "source": [
    "### Draw the distribution of Total Charges\n",
    "\n",
    "sns.histplot(data=df, x='TotalCharges', hue='Churn', multiple= 'stack', legend= True)\n",
    "plt.title('Total Charges Distribution by Churn Status')\n",
    "plt.xlabel('Total Charges')\n",
    "plt.ylabel('Frequency')\n",
    "plt.legend(title='Churn', labels = ['Yes', 'No'])\n",
    "plt.savefig('TotalCharges Dist by Churn')\n",
    "plt.show()"
   ]
  },
  {
   "cell_type": "code",
   "execution_count": null,
   "id": "4ef85855-9b5f-4198-8499-60ed845761a0",
   "metadata": {},
   "outputs": [],
   "source": [
    "# Draw the Distribution of Tenure\n",
    "#df[\"Churn\"]= df[\"Churn\"].map({0 : \"No\", 1: \"Yes\"})\n",
    "\n",
    "sns.histplot(data=df, x='tenure', hue='Churn', multiple= 'stack', legend= True)\n",
    "plt.title('Tenure Distribution by Churn Status')\n",
    "plt.xlabel('Tenure (Months)')\n",
    "plt.ylabel('Frequency')\n",
    "plt.legend(title='Churn', labels = ['Yes', 'No'])\n",
    "plt.savefig('Tenure Dist by Churn')\n",
    "plt.show()"
   ]
  },
  {
   "cell_type": "code",
   "execution_count": null,
   "id": "1c30743f-0619-4e0b-8822-d26fd162df4b",
   "metadata": {},
   "outputs": [],
   "source": [
    "### Draw the distribution of conrtract (month-to-month) variable\n",
    "\n",
    "\n",
    "# Encoding multiple columns as the churn column was removed on previous steps\n",
    "categoric_cols = [col for col in df.columns if df[col].dtype == 'object' and col != 'Churn']\n",
    "# Encoding multiple columns\n",
    "df_enc_2 = pd.get_dummies(df, columns=categoric_cols)\n",
    "df_enc_2[\"Churn\"]= df_enc_2[\"Churn\"].map({0 : \"No\", 1: \"Yes\"})\n",
    "\n",
    "\n",
    "\n",
    "\n",
    "sns.countplot(data=df_enc_2, x='Contract_Month-to-month', hue = 'Churn')\n",
    "plt.title('Distribution of Contract (Month-to-month)')\n",
    "plt.xlabel('Class')\n",
    "plt.ylabel('Count')\n",
    "plt.savefig('Contract (Month to month).png')\n",
    "plt.show()"
   ]
  }
 ],
 "metadata": {
  "kernelspec": {
   "display_name": "Python 3 (ipykernel)",
   "language": "python",
   "name": "python3"
  },
  "language_info": {
   "codemirror_mode": {
    "name": "ipython",
    "version": 3
   },
   "file_extension": ".py",
   "mimetype": "text/x-python",
   "name": "python",
   "nbconvert_exporter": "python",
   "pygments_lexer": "ipython3",
   "version": "3.12.4"
  }
 },
 "nbformat": 4,
 "nbformat_minor": 5
}
